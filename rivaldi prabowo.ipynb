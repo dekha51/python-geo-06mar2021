{
 "cells": [
  {
   "cell_type": "code",
   "execution_count": 15,
   "metadata": {},
   "outputs": [
    {
     "name": "stdout",
     "output_type": "stream",
     "text": [
      "2919\n",
      "[[3.00100e+03 9.98400e+00 1.48500e+02 ... 9.91000e-01 4.37010e-01\n",
      "  2.17000e+00]\n",
      " [3.00150e+03 9.93800e+00 1.48625e+02 ... 1.02600e+00 4.77050e-01\n",
      "  2.17600e+00]\n",
      " [3.00200e+03 9.91400e+00 1.46125e+02 ... 9.90000e-01 4.59470e-01\n",
      "  2.16600e+00]\n",
      " ...\n",
      " [4.45900e+03 8.48400e+00 1.09562e+02 ... 1.95900e+00 3.56930e-01\n",
      "  2.31600e+00]\n",
      " [4.45950e+03 8.46100e+00 1.10750e+02 ... 1.74600e+00 3.72560e-01\n",
      "  2.31100e+00]\n",
      " [4.46000e+03 8.46900e+00 1.10938e+02 ... 1.62500e+00 3.67680e-01\n",
      "  2.30700e+00]]\n"
     ]
    }
   ],
   "source": [
    "import numpy as np\n",
    "import matplotlib.pyplot as plt\n",
    "import pandas as pd\n",
    "\n",
    "file ='well-1.las'\n",
    "data= np.loadtxt(file,skiprows=40)\n",
    "data[data==-999.2500]=np.nan\n",
    "\n",
    "print (len(data))\n",
    "print(data)"
   ]
  },
  {
   "cell_type": "code",
   "execution_count": 16,
   "metadata": {},
   "outputs": [
    {
     "name": "stdout",
     "output_type": "stream",
     "text": [
      "       DEPTH   CALI       DT      GR    ILD   MSFL     NPHI   RHOB\n",
      "0     3001.0  9.984  148.500  80.875  0.722  0.991  0.43701  2.170\n",
      "1     3001.5  9.938  148.625  80.875  0.718  1.026  0.47705  2.176\n",
      "2     3002.0  9.914  146.125  80.625  0.714  0.990  0.45947  2.166\n",
      "3     3002.5  9.859  145.375  82.625  0.715  0.953  0.47754  2.158\n",
      "4     3003.0  9.914  145.125  81.938  0.709  0.900  0.45508  2.156\n",
      "...      ...    ...      ...     ...    ...    ...      ...    ...\n",
      "2914  4458.0  8.484  109.000  79.812  1.122  1.744  0.33252  2.316\n",
      "2915  4458.5  8.469  109.438  82.312  1.112  1.972  0.34082  2.326\n",
      "2916  4459.0  8.484  109.562  77.188  1.092  1.959  0.35693  2.316\n",
      "2917  4459.5  8.461  110.750  75.250  1.079  1.746  0.37256  2.311\n",
      "2918  4460.0  8.469  110.938  75.188  1.067  1.625  0.36768  2.307\n",
      "\n",
      "[2919 rows x 8 columns]\n"
     ]
    }
   ],
   "source": [
    "header= ['DEPTH', 'CALI', 'DT', 'GR', 'ILD', 'MSFL', 'NPHI', 'RHOB']\n",
    "data=pd.DataFrame(data,columns=header)\n",
    "print (data)"
   ]
  },
  {
   "cell_type": "code",
   "execution_count": 17,
   "metadata": {},
   "outputs": [
    {
     "name": "stdout",
     "output_type": "stream",
     "text": [
      "         CALI       DT      GR    ILD   MSFL  NPHI_LS   RHOB\n",
      "DEPTH                                                       \n",
      "3001.0  9.984  148.500  80.875  0.722  0.991  0.43701  2.170\n",
      "3001.5  9.938  148.625  80.875  0.718  1.026  0.47705  2.176\n",
      "3002.0  9.914  146.125  80.625  0.714  0.990  0.45947  2.166\n",
      "3002.5  9.859  145.375  82.625  0.715  0.953  0.47754  2.158\n",
      "3003.0  9.914  145.125  81.938  0.709  0.900  0.45508  2.156\n",
      "...       ...      ...     ...    ...    ...      ...    ...\n",
      "4458.0  8.484  109.000  79.812  1.122  1.744  0.33252  2.316\n",
      "4458.5  8.469  109.438  82.312  1.112  1.972  0.34082  2.326\n",
      "4459.0  8.484  109.562  77.188  1.092  1.959  0.35693  2.316\n",
      "4459.5  8.461  110.750  75.250  1.079  1.746  0.37256  2.311\n",
      "4460.0  8.469  110.938  75.188  1.067  1.625  0.36768  2.307\n",
      "\n",
      "[2919 rows x 7 columns]\n"
     ]
    }
   ],
   "source": [
    "import lasio\n",
    "las=lasio.read('well-1.las') \n",
    "\n",
    "well=las.df()\n",
    "print (well)"
   ]
  },
  {
   "cell_type": "code",
   "execution_count": 18,
   "metadata": {},
   "outputs": [
    {
     "data": {
      "text/html": [
       "<div>\n",
       "<style scoped>\n",
       "    .dataframe tbody tr th:only-of-type {\n",
       "        vertical-align: middle;\n",
       "    }\n",
       "\n",
       "    .dataframe tbody tr th {\n",
       "        vertical-align: top;\n",
       "    }\n",
       "\n",
       "    .dataframe thead th {\n",
       "        text-align: right;\n",
       "    }\n",
       "</style>\n",
       "<table border=\"1\" class=\"dataframe\">\n",
       "  <thead>\n",
       "    <tr style=\"text-align: right;\">\n",
       "      <th></th>\n",
       "      <th>CALI</th>\n",
       "      <th>DT</th>\n",
       "      <th>GR</th>\n",
       "      <th>ILD</th>\n",
       "      <th>MSFL</th>\n",
       "      <th>NPHI_LS</th>\n",
       "      <th>RHOB</th>\n",
       "    </tr>\n",
       "  </thead>\n",
       "  <tbody>\n",
       "    <tr>\n",
       "      <th>count</th>\n",
       "      <td>2919.000000</td>\n",
       "      <td>2919.000000</td>\n",
       "      <td>2919.000000</td>\n",
       "      <td>2919.000000</td>\n",
       "      <td>2919.000000</td>\n",
       "      <td>2919.000000</td>\n",
       "      <td>2919.000000</td>\n",
       "    </tr>\n",
       "    <tr>\n",
       "      <th>mean</th>\n",
       "      <td>8.893338</td>\n",
       "      <td>118.309119</td>\n",
       "      <td>74.181216</td>\n",
       "      <td>1.043017</td>\n",
       "      <td>1.556427</td>\n",
       "      <td>0.380029</td>\n",
       "      <td>2.206859</td>\n",
       "    </tr>\n",
       "    <tr>\n",
       "      <th>std</th>\n",
       "      <td>0.600544</td>\n",
       "      <td>12.618610</td>\n",
       "      <td>11.396476</td>\n",
       "      <td>0.346950</td>\n",
       "      <td>2.492693</td>\n",
       "      <td>0.052755</td>\n",
       "      <td>0.092249</td>\n",
       "    </tr>\n",
       "    <tr>\n",
       "      <th>min</th>\n",
       "      <td>7.629000</td>\n",
       "      <td>57.625000</td>\n",
       "      <td>17.641000</td>\n",
       "      <td>0.533000</td>\n",
       "      <td>0.307000</td>\n",
       "      <td>0.119630</td>\n",
       "      <td>1.696000</td>\n",
       "    </tr>\n",
       "    <tr>\n",
       "      <th>25%</th>\n",
       "      <td>8.461000</td>\n",
       "      <td>110.188000</td>\n",
       "      <td>68.500000</td>\n",
       "      <td>0.826000</td>\n",
       "      <td>0.988000</td>\n",
       "      <td>0.346190</td>\n",
       "      <td>2.174000</td>\n",
       "    </tr>\n",
       "    <tr>\n",
       "      <th>50%</th>\n",
       "      <td>8.734000</td>\n",
       "      <td>117.812000</td>\n",
       "      <td>76.250000</td>\n",
       "      <td>0.993000</td>\n",
       "      <td>1.275000</td>\n",
       "      <td>0.380370</td>\n",
       "      <td>2.219000</td>\n",
       "    </tr>\n",
       "    <tr>\n",
       "      <th>75%</th>\n",
       "      <td>9.242000</td>\n",
       "      <td>126.125000</td>\n",
       "      <td>81.938000</td>\n",
       "      <td>1.214000</td>\n",
       "      <td>1.549000</td>\n",
       "      <td>0.416020</td>\n",
       "      <td>2.256000</td>\n",
       "    </tr>\n",
       "    <tr>\n",
       "      <th>max</th>\n",
       "      <td>12.773000</td>\n",
       "      <td>156.250000</td>\n",
       "      <td>101.188000</td>\n",
       "      <td>6.004000</td>\n",
       "      <td>48.177000</td>\n",
       "      <td>0.523440</td>\n",
       "      <td>2.719000</td>\n",
       "    </tr>\n",
       "  </tbody>\n",
       "</table>\n",
       "</div>"
      ],
      "text/plain": [
       "              CALI           DT           GR          ILD         MSFL  \\\n",
       "count  2919.000000  2919.000000  2919.000000  2919.000000  2919.000000   \n",
       "mean      8.893338   118.309119    74.181216     1.043017     1.556427   \n",
       "std       0.600544    12.618610    11.396476     0.346950     2.492693   \n",
       "min       7.629000    57.625000    17.641000     0.533000     0.307000   \n",
       "25%       8.461000   110.188000    68.500000     0.826000     0.988000   \n",
       "50%       8.734000   117.812000    76.250000     0.993000     1.275000   \n",
       "75%       9.242000   126.125000    81.938000     1.214000     1.549000   \n",
       "max      12.773000   156.250000   101.188000     6.004000    48.177000   \n",
       "\n",
       "           NPHI_LS         RHOB  \n",
       "count  2919.000000  2919.000000  \n",
       "mean      0.380029     2.206859  \n",
       "std       0.052755     0.092249  \n",
       "min       0.119630     1.696000  \n",
       "25%       0.346190     2.174000  \n",
       "50%       0.380370     2.219000  \n",
       "75%       0.416020     2.256000  \n",
       "max       0.523440     2.719000  "
      ]
     },
     "execution_count": 18,
     "metadata": {},
     "output_type": "execute_result"
    }
   ],
   "source": [
    "well.describe()"
   ]
  },
  {
   "cell_type": "code",
   "execution_count": 70,
   "metadata": {},
   "outputs": [
    {
     "name": "stdout",
     "output_type": "stream",
     "text": [
      "         CALI       DT      GR    ILD   MSFL  NPHI_LS   RHOB      RW      SW\n",
      "DEPTH                                                                       \n",
      "3338.0  8.617  123.625  88.812  1.006  1.292  0.48193  2.264  0.2337  1.0001\n",
      "3338.5  8.562  116.875  79.500  1.182  1.258  0.46924  2.320  0.2603  1.0001\n",
      "3339.0  8.594  100.000  68.562  1.417  1.250  0.37354  2.408  0.1977  1.0000\n",
      "3339.5  8.492   83.938  51.500  1.742  1.430  0.21143  2.562  0.0779  1.0002\n",
      "3340.0  8.297   65.750  33.844  2.174  7.311  0.13428  2.668  0.0392  1.0000\n",
      "...       ...      ...     ...    ...    ...      ...    ...     ...     ...\n",
      "3749.5  8.555  130.625  85.000  0.773  0.873  0.43115  2.184  0.1437  1.0000\n",
      "3750.0  8.648  130.875  87.500  0.772  0.891  0.43164  2.170  0.1438  0.9999\n",
      "3750.5  8.680  130.875  86.250  0.775  1.158  0.44092  2.178  0.1507  1.0001\n",
      "3751.0  8.727  129.375  89.188  0.773  1.072  0.42285  2.184  0.1382  0.9999\n",
      "3751.5  8.633  129.500  89.688  0.772  1.035  0.40430  2.191  0.1262  1.0000\n",
      "\n",
      "[828 rows x 9 columns]\n"
     ]
    }
   ],
   "source": [
    "KujungFM=well.loc[3337.79:3751.5]\n",
    "print (KujungFM)"
   ]
  },
  {
   "cell_type": "code",
   "execution_count": 71,
   "metadata": {},
   "outputs": [],
   "source": [
    "#Calculate Rw and Sw\n",
    "\n",
    "def rw_app(porosity, archieA, archieM, rt):\n",
    "    rw = ((porosity ** archieM) * rt / archieA)\n",
    "    return round(rw, 4)\n",
    "\n",
    "def sw_archie(porosity, rt, rw, archieA, archieM, archieN):\n",
    "    sw = ((archieA/(porosity ** archieM)) * (rw/rt))**(1/archieN)\n",
    "    return round(sw,4)\n",
    "    \n",
    "archieA = 1\n",
    "archieM = 2\n",
    "archieN = 2"
   ]
  },
  {
   "cell_type": "code",
   "execution_count": 72,
   "metadata": {},
   "outputs": [
    {
     "name": "stdout",
     "output_type": "stream",
     "text": [
      "         CALI       DT      GR    ILD   MSFL  NPHI_LS   RHOB      RW      SW\n",
      "DEPTH                                                                       \n",
      "3338.0  8.617  123.625  88.812  1.006  1.292  0.48193  2.264  0.2337  1.0001\n",
      "3338.5  8.562  116.875  79.500  1.182  1.258  0.46924  2.320  0.2603  1.0001\n",
      "3339.0  8.594  100.000  68.562  1.417  1.250  0.37354  2.408  0.1977  1.0000\n",
      "3339.5  8.492   83.938  51.500  1.742  1.430  0.21143  2.562  0.0779  1.0002\n",
      "3340.0  8.297   65.750  33.844  2.174  7.311  0.13428  2.668  0.0392  1.0000\n",
      "...       ...      ...     ...    ...    ...      ...    ...     ...     ...\n",
      "3749.5  8.555  130.625  85.000  0.773  0.873  0.43115  2.184  0.1437  1.0000\n",
      "3750.0  8.648  130.875  87.500  0.772  0.891  0.43164  2.170  0.1438  0.9999\n",
      "3750.5  8.680  130.875  86.250  0.775  1.158  0.44092  2.178  0.1507  1.0001\n",
      "3751.0  8.727  129.375  89.188  0.773  1.072  0.42285  2.184  0.1382  0.9999\n",
      "3751.5  8.633  129.500  89.688  0.772  1.035  0.40430  2.191  0.1262  1.0000\n",
      "\n",
      "[828 rows x 9 columns]\n"
     ]
    },
    {
     "name": "stderr",
     "output_type": "stream",
     "text": [
      "<ipython-input-72-afcd6bef3ed7>:1: SettingWithCopyWarning: \n",
      "A value is trying to be set on a copy of a slice from a DataFrame.\n",
      "Try using .loc[row_indexer,col_indexer] = value instead\n",
      "\n",
      "See the caveats in the documentation: https://pandas.pydata.org/pandas-docs/stable/user_guide/indexing.html#returning-a-view-versus-a-copy\n",
      "  KujungFM['RW'] = rw_app(KujungFM['NPHI_LS'], archieA, archieM, KujungFM['ILD']) #Menampilkan Rw\n",
      "<ipython-input-72-afcd6bef3ed7>:2: SettingWithCopyWarning: \n",
      "A value is trying to be set on a copy of a slice from a DataFrame.\n",
      "Try using .loc[row_indexer,col_indexer] = value instead\n",
      "\n",
      "See the caveats in the documentation: https://pandas.pydata.org/pandas-docs/stable/user_guide/indexing.html#returning-a-view-versus-a-copy\n",
      "  KujungFM['SW'] = sw_archie(KujungFM['NPHI_LS'], KujungFM['ILD'], KujungFM['RW'], archieA, archieM, archieN) #Menampilkan Sw\n"
     ]
    }
   ],
   "source": [
    "KujungFM['RW'] = rw_app(KujungFM['NPHI_LS'], archieA, archieM, KujungFM['ILD']) #Menampilkan Rw\n",
    "KujungFM['SW'] = sw_archie(KujungFM['NPHI_LS'], KujungFM['ILD'], KujungFM['RW'], archieA, archieM, archieN) #Menampilkan Sw\n",
    "print (KujungFM)"
   ]
  },
  {
   "cell_type": "code",
   "execution_count": 79,
   "metadata": {},
   "outputs": [
    {
     "name": "stdout",
     "output_type": "stream",
     "text": [
      "SW mean in KujungFM: 1.0000053140096614\n",
      "\n",
      "SW median in KujungFM: 1.0\n",
      "\n",
      "SW range in KujungFM: 0.0005999999999999339\n",
      "\n",
      "SW variance in KujungFM: 1.0733516756331268e-08\n",
      "\n",
      "SW standard deviation in KujungFM: 0.00010360268701308508\n"
     ]
    }
   ],
   "source": [
    "print ('SW mean in KujungFM: ' + str(KujungFM['SW'].mean())+'\\n') #nilai rata2 SW\n",
    "print ('SW median in KujungFM: ' + str(KujungFM['SW'].median())+'\\n') #nilai tengah SW\n",
    "print ('SW range in KujungFM: ' + str(KujungFM['SW'].max()-KujungFM['SW'].min())+'\\n') #nilai range (max-min) SW\n",
    "print ('SW variance in KujungFM: ' + str(KujungFM['SW'].var())+'\\n') #nilai variance SW\n",
    "print ('SW standard deviation in KujungFM: ' + str(KujungFM['SW'].std())) #nilai std deviasi SW"
   ]
  },
  {
   "cell_type": "code",
   "execution_count": 80,
   "metadata": {},
   "outputs": [
    {
     "name": "stdout",
     "output_type": "stream",
     "text": [
      "RW mean in KujungFM: 0.15467620772946866\n",
      "\n",
      "RW median in KujungFM: 0.1521\n",
      "\n",
      "RW range in KujungFM: -0.6565000000000001\n",
      "\n",
      "RW variance in KujungFM: 0.0010392048625057692\n",
      "\n",
      "RW standard deviation in KujungFM: 0.03223670055241028\n"
     ]
    }
   ],
   "source": [
    "print ('RW mean in KujungFM: ' + str(KujungFM['RW'].mean())+'\\n') #nilai rata2 RW\n",
    "print ('RW median in KujungFM: ' + str(KujungFM['RW'].median())+'\\n') #nilai tengah RW\n",
    "print ('RW range in KujungFM: ' + str(KujungFM['RW'].max()-KujungFM['SW'].min())+'\\n') #nilai range (max-min) RW\n",
    "print ('RW variance in KujungFM: ' + str(KujungFM['RW'].var())+'\\n') #nilai variance RW\n",
    "print ('RW standard deviation in KujungFM: ' + str(KujungFM['RW'].std())) #nilai std deviasi RW"
   ]
  },
  {
   "cell_type": "code",
   "execution_count": 81,
   "metadata": {},
   "outputs": [
    {
     "name": "stderr",
     "output_type": "stream",
     "text": [
      "C:\\Users\\lenovo\\anaconda3\\lib\\site-packages\\seaborn\\_decorators.py:36: FutureWarning: Pass the following variable as a keyword arg: x. From version 0.12, the only valid positional argument will be `data`, and passing other arguments without an explicit keyword will result in an error or misinterpretation.\n",
      "  warnings.warn(\n"
     ]
    },
    {
     "data": {
      "image/png": "[encoded data removed]",
      "text/plain": [
       "<Figure size 432x288 with 1 Axes>"
      ]
     },
     "metadata": {
      "needs_background": "light"
     },
     "output_type": "display_data"
    }
   ],
   "source": [
    "import seaborn as sns\n",
    "\n",
    "sns.boxplot(KujungFM['RW']) #Boxplot Rw\n",
    "plt.show()"
   ]
  },
  {
   "cell_type": "code",
   "execution_count": 82,
   "metadata": {},
   "outputs": [
    {
     "name": "stderr",
     "output_type": "stream",
     "text": [
      "C:\\Users\\lenovo\\anaconda3\\lib\\site-packages\\seaborn\\_decorators.py:36: FutureWarning: Pass the following variable as a keyword arg: x. From version 0.12, the only valid positional argument will be `data`, and passing other arguments without an explicit keyword will result in an error or misinterpretation.\n",
      "  warnings.warn(\n"
     ]
    },
    {
     "data": {
      "image/png": "[encoded data removed]",
      "text/plain": [
       "<Figure size 432x288 with 1 Axes>"
      ]
     },
     "metadata": {
      "needs_background": "light"
     },
     "output_type": "display_data"
    }
   ],
   "source": [
    "sns.boxplot(KujungFM['SW']) #Boxplot Sw\n",
    "plt.show()"
   ]
  },
  {
   "cell_type": "code",
   "execution_count": 85,
   "metadata": {},
   "outputs": [
    {
     "name": "stderr",
     "output_type": "stream",
     "text": [
      "C:\\Users\\lenovo\\anaconda3\\lib\\site-packages\\seaborn\\distributions.py:2551: FutureWarning: `distplot` is a deprecated function and will be removed in a future version. Please adapt your code to use either `displot` (a figure-level function with similar flexibility) or `histplot` (an axes-level function for histograms).\n",
      "  warnings.warn(msg, FutureWarning)\n"
     ]
    },
    {
     "data": {
      "image/png": "[encoded data removed]",
      "text/plain": [
       "<Figure size 432x288 with 1 Axes>"
      ]
     },
     "metadata": {
      "needs_background": "light"
     },
     "output_type": "display_data"
    }
   ],
   "source": [
    "sns.distplot(KujungFM['SW'], bins=5) #Distribution plot SW\n",
    "plt.show()"
   ]
  },
  {
   "cell_type": "code",
   "execution_count": 86,
   "metadata": {},
   "outputs": [
    {
     "name": "stderr",
     "output_type": "stream",
     "text": [
      "C:\\Users\\lenovo\\anaconda3\\lib\\site-packages\\seaborn\\distributions.py:2551: FutureWarning: `distplot` is a deprecated function and will be removed in a future version. Please adapt your code to use either `displot` (a figure-level function with similar flexibility) or `histplot` (an axes-level function for histograms).\n",
      "  warnings.warn(msg, FutureWarning)\n"
     ]
    },
    {
     "data": {
      "image/png": "[encoded data removed]",
      "text/plain": [
       "<Figure size 432x288 with 1 Axes>"
      ]
     },
     "metadata": {
      "needs_background": "light"
     },
     "output_type": "display_data"
    }
   ],
   "source": [
    "sns.distplot(KujungFM['RW'], bins=5) #Distribution plot RW\n",
    "plt.show()"
   ]
  }
 ],
 "metadata": {
  "kernelspec": {
   "display_name": "Python 3",
   "language": "python",
   "name": "python3"
  },
  "language_info": {
   "codemirror_mode": {
    "name": "ipython",
    "version": 3
   },
   "file_extension": ".py",
   "mimetype": "text/x-python",
   "name": "python",
   "nbconvert_exporter": "python",
   "pygments_lexer": "ipython3",
   "version": "3.8.5"
  }
 },
 "nbformat": 4,
 "nbformat_minor": 4
}
